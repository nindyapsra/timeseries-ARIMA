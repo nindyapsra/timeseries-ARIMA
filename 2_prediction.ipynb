{
 "cells": [
  {
   "cell_type": "code",
   "execution_count": 1,
   "metadata": {},
   "outputs": [],
   "source": [
    "from pandas import read_csv\n",
    "from statsmodels.tsa.arima_model import ARIMAResults\n",
    "from matplotlib import pyplot\n",
    "import numpy\n",
    "import pandas"
   ]
  },
  {
   "cell_type": "markdown",
   "metadata": {},
   "source": [
    "# LOAD DATA"
   ]
  },
  {
   "cell_type": "code",
   "execution_count": 8,
   "metadata": {},
   "outputs": [],
   "source": [
    "series = read_csv('ihk_new.csv', index_col=0, squeeze=True)"
   ]
  },
  {
   "cell_type": "markdown",
   "metadata": {},
   "source": [
    "# DIFFERENCING"
   ]
  },
  {
   "cell_type": "code",
   "execution_count": 9,
   "metadata": {},
   "outputs": [],
   "source": [
    "def difference(dataset, interval=1):\n",
    "    diff = list()\n",
    "    for i in range(interval, len(dataset)):\n",
    "        value = dataset[i] - dataset[i - interval]\n",
    "        diff.append(value)\n",
    "    return diff"
   ]
  },
  {
   "cell_type": "code",
   "execution_count": 10,
   "metadata": {},
   "outputs": [],
   "source": [
    "# invert differenced value\n",
    "def inverse_difference(history, yhat, interval=1):\n",
    "    return yhat + history[-interval]"
   ]
  },
  {
   "cell_type": "markdown",
   "metadata": {},
   "source": [
    "# IMPORT MODEL"
   ]
  },
  {
   "cell_type": "code",
   "execution_count": 18,
   "metadata": {},
   "outputs": [],
   "source": [
    "model_fit = ARIMAResults.load('model.pkl')\n",
    "\n",
    "month_in_year = 12\n",
    "differenced = difference(series, 12)\n",
    "\n",
    "start_index = len(differenced)\n",
    "end_index = start_index + 11\n",
    "forecast = model_fit.predict(start=start_index, end=end_index)"
   ]
  },
  {
   "cell_type": "markdown",
   "metadata": {},
   "source": [
    "# PREDICTION"
   ]
  },
  {
   "cell_type": "code",
   "execution_count": 19,
   "metadata": {},
   "outputs": [
    {
     "name": "stdout",
     "output_type": "stream",
     "text": [
      "Month 1: 133.935328\n",
      "Month 2: 134.048226\n",
      "Month 3: 133.993048\n",
      "Month 4: 134.143712\n",
      "Month 5: 134.462900\n",
      "Month 6: 135.475412\n",
      "Month 7: 135.864721\n",
      "Month 8: 135.640544\n",
      "Month 9: 135.879366\n",
      "Month 10: 136.525362\n",
      "Month 11: 137.368331\n",
      "Month 12: 138.132621\n"
     ]
    }
   ],
   "source": [
    "history = [x for x in series]\n",
    "list_result = []\n",
    "month = 1\n",
    "\n",
    "for yhat in forecast:\n",
    "    inverted = inverse_difference(history, yhat, month_in_year)\n",
    "    print('Month %d: %f' % (month, inverted))\n",
    "    history.append(inverted)\n",
    "    list_result.append(inverted)\n",
    "    month += 1"
   ]
  },
  {
   "cell_type": "markdown",
   "metadata": {},
   "source": [
    "# PLOTTING"
   ]
  },
  {
   "cell_type": "code",
   "execution_count": 15,
   "metadata": {},
   "outputs": [
    {
     "data": {
      "image/png": "[encoded data removed]",
      "text/plain": [
       "<Figure size 432x288 with 1 Axes>"
      ]
     },
     "metadata": {
      "needs_background": "light"
     },
     "output_type": "display_data"
    }
   ],
   "source": [
    "list_to_series = pandas.Series(list_result)\n",
    "\n",
    "pyplot.plot(list_result, color='red', label='IHK Result')\n",
    "pyplot.xlabel(\"Month Predictions\")\n",
    "pyplot.ylabel(\"IHK Predictions\")\n",
    "pyplot.title(\"IHK Prediction for the Next Month\")\n",
    "pyplot.legend()\n",
    "pyplot.show()"
   ]
  },
  {
   "cell_type": "code",
   "execution_count": null,
   "metadata": {},
   "outputs": [],
   "source": []
  }
 ],
 "metadata": {
  "kernelspec": {
   "display_name": "Python 3",
   "language": "python",
   "name": "python3"
  },
  "language_info": {
   "codemirror_mode": {
    "name": "ipython",
    "version": 3
   },
   "file_extension": ".py",
   "mimetype": "text/x-python",
   "name": "python",
   "nbconvert_exporter": "python",
   "pygments_lexer": "ipython3",
   "version": "3.7.3"
  }
 },
 "nbformat": 4,
 "nbformat_minor": 2
}
